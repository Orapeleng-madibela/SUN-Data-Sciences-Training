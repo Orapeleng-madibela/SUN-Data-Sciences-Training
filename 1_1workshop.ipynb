{
 "cells": [
  {
   "cell_type": "code",
   "execution_count": 1,
   "id": "c3965eb8",
   "metadata": {},
   "outputs": [],
   "source": [
    "import numpy as np\n",
    "%matplotlib inline\n",
    "import matplotlib.pyplot as plt\n",
    "import seaborn as sns\n",
    "import pandas as pd"
   ]
  },
  {
   "cell_type": "code",
   "execution_count": 2,
   "id": "0de46f01",
   "metadata": {},
   "outputs": [
    {
     "data": {
      "text/plain": [
       "179"
      ]
     },
     "execution_count": 2,
     "metadata": {},
     "output_type": "execute_result"
    }
   ],
   "source": [
    "90 + 89"
   ]
  },
  {
   "cell_type": "markdown",
   "id": "c028e6fe",
   "metadata": {},
   "source": [
    "### Variables"
   ]
  },
  {
   "cell_type": "code",
   "execution_count": 3,
   "id": "2b6401b3",
   "metadata": {},
   "outputs": [],
   "source": [
    "# Store the value 9 in variable num1\n",
    "num1 = 9"
   ]
  },
  {
   "cell_type": "code",
   "execution_count": 6,
   "id": "65df7656",
   "metadata": {},
   "outputs": [
    {
     "data": {
      "text/plain": [
       "9"
      ]
     },
     "execution_count": 6,
     "metadata": {},
     "output_type": "execute_result"
    }
   ],
   "source": [
    "# What is the value of variable num1\n",
    "num1  # print(num1) will also print the same output"
   ]
  },
  {
   "cell_type": "code",
   "execution_count": 10,
   "id": "e3a7ad1e",
   "metadata": {},
   "outputs": [
    {
     "data": {
      "text/plain": [
       "72"
      ]
     },
     "execution_count": 10,
     "metadata": {},
     "output_type": "execute_result"
    }
   ],
   "source": [
    "# Multiply variable num1 by another number(8)\n",
    "num1 * 8"
   ]
  },
  {
   "cell_type": "code",
   "execution_count": 11,
   "id": "e28ad447",
   "metadata": {},
   "outputs": [
    {
     "data": {
      "text/plain": [
       "35"
      ]
     },
     "execution_count": 11,
     "metadata": {},
     "output_type": "execute_result"
    }
   ],
   "source": [
    "# Add a number to variable num1\n",
    "num1 + 26"
   ]
  },
  {
   "cell_type": "code",
   "execution_count": 12,
   "id": "2db6296b",
   "metadata": {},
   "outputs": [],
   "source": [
    "# Change the value of variable num1\n",
    "num1 = 24"
   ]
  },
  {
   "cell_type": "code",
   "execution_count": 13,
   "id": "e6af222a",
   "metadata": {},
   "outputs": [
    {
     "data": {
      "text/plain": [
       "1440"
      ]
     },
     "execution_count": 13,
     "metadata": {},
     "output_type": "execute_result"
    }
   ],
   "source": [
    "# Multiply variable num1 by another number(60)\n",
    "num1 * 60"
   ]
  },
  {
   "cell_type": "code",
   "execution_count": 14,
   "id": "21c3d152",
   "metadata": {},
   "outputs": [
    {
     "data": {
      "text/plain": [
       "57"
      ]
     },
     "execution_count": 14,
     "metadata": {},
     "output_type": "execute_result"
    }
   ],
   "source": [
    "# Add a number to variable num1\n",
    "num1 + 33"
   ]
  },
  {
   "cell_type": "code",
   "execution_count": null,
   "id": "245b8878",
   "metadata": {},
   "outputs": [],
   "source": [
    "# Store/assign the value of 67 in variable num2\n",
    "num2 = 67"
   ]
  },
  {
   "cell_type": "code",
   "execution_count": 16,
   "id": "1d72f479",
   "metadata": {},
   "outputs": [
    {
     "data": {
      "text/plain": [
       "91"
      ]
     },
     "execution_count": 16,
     "metadata": {},
     "output_type": "execute_result"
    }
   ],
   "source": [
    "# Add variables num1 and num2\n",
    "num1 + num2"
   ]
  },
  {
   "cell_type": "code",
   "execution_count": 18,
   "id": "0fa1f203",
   "metadata": {},
   "outputs": [],
   "source": [
    "# Create variable town and assign it to Rustenburg\n",
    "town = 'Rustenburg'"
   ]
  },
  {
   "cell_type": "code",
   "execution_count": 19,
   "id": "4cbd661e",
   "metadata": {},
   "outputs": [
    {
     "data": {
      "text/plain": [
       "'Rustenburg'"
      ]
     },
     "execution_count": 19,
     "metadata": {},
     "output_type": "execute_result"
    }
   ],
   "source": [
    "town"
   ]
  },
  {
   "cell_type": "markdown",
   "id": "35cf2245",
   "metadata": {},
   "source": [
    "### Exercise 1\n",
    "\n",
    "Three new variables: hourly_minimum_wage, hours_per_week and week_per_year equals to 15, 40 and 52 respectively\n",
    "\n",
    "1. Determine the number of working hours in a year, store it in a variable and output that\n",
    "2. Determine the minimum earning per year\n",
    "3. Determine the minimum earning per year using the original variables that were defined"
   ]
  },
  {
   "cell_type": "code",
   "execution_count": 20,
   "id": "3f7e1b25",
   "metadata": {},
   "outputs": [],
   "source": [
    "# Variables\n",
    "hourly_minimum_wage = 15\n",
    "hours_per_week = 40\n",
    "week_per_year = 52"
   ]
  },
  {
   "cell_type": "code",
   "execution_count": 21,
   "id": "9ecea613",
   "metadata": {},
   "outputs": [
    {
     "data": {
      "text/plain": [
       "2080"
      ]
     },
     "execution_count": 21,
     "metadata": {},
     "output_type": "execute_result"
    }
   ],
   "source": [
    "# Number of working hours in a year\n",
    "working_hours_per_year = hours_per_week * week_per_year\n",
    "working_hours_per_year"
   ]
  },
  {
   "cell_type": "code",
   "execution_count": 22,
   "id": "7cbf72cd",
   "metadata": {},
   "outputs": [
    {
     "data": {
      "text/plain": [
       "31200"
      ]
     },
     "execution_count": 22,
     "metadata": {},
     "output_type": "execute_result"
    }
   ],
   "source": [
    "# minimum earning per year\n",
    "working_hours_per_year * hourly_minimum_wage"
   ]
  },
  {
   "cell_type": "code",
   "execution_count": 23,
   "id": "6a8d3e0d",
   "metadata": {},
   "outputs": [
    {
     "data": {
      "text/plain": [
       "31200"
      ]
     },
     "execution_count": 23,
     "metadata": {},
     "output_type": "execute_result"
    }
   ],
   "source": [
    "# minimum earning per year using the original variables that were defined\n",
    "hourly_minimum_wage * hours_per_week * week_per_year"
   ]
  },
  {
   "cell_type": "markdown",
   "id": "bed96e2c",
   "metadata": {},
   "source": [
    "## Arrays"
   ]
  },
  {
   "cell_type": "code",
   "execution_count": 24,
   "id": "ea889cbc",
   "metadata": {},
   "outputs": [
    {
     "data": {
      "text/plain": [
       "array([1, 2, 3, 4, 5, 6])"
      ]
     },
     "execution_count": 24,
     "metadata": {},
     "output_type": "execute_result"
    }
   ],
   "source": [
    "# np.array is used to create an array\n",
    "np.array([1,2,3,4,5,6])"
   ]
  },
  {
   "cell_type": "code",
   "execution_count": 25,
   "id": "6adc5842",
   "metadata": {},
   "outputs": [],
   "source": [
    "# Equate the above array to A\n",
    "A = np.array([1,2,3,4,5,6])"
   ]
  },
  {
   "cell_type": "code",
   "execution_count": 26,
   "id": "89c71cb7",
   "metadata": {},
   "outputs": [
    {
     "data": {
      "text/plain": [
       "array([1, 2, 3, 4, 5, 6])"
      ]
     },
     "execution_count": 26,
     "metadata": {},
     "output_type": "execute_result"
    }
   ],
   "source": [
    "A"
   ]
  },
  {
   "cell_type": "code",
   "execution_count": 27,
   "id": "377842bd",
   "metadata": {},
   "outputs": [
    {
     "data": {
      "text/plain": [
       "array([ 4,  8, 12, 16, 20, 24])"
      ]
     },
     "execution_count": 27,
     "metadata": {},
     "output_type": "execute_result"
    }
   ],
   "source": [
    "# Multiply A by a number\n",
    "A * 4"
   ]
  },
  {
   "cell_type": "code",
   "execution_count": 28,
   "id": "444b5607",
   "metadata": {},
   "outputs": [
    {
     "data": {
      "text/plain": [
       "array([ 6,  7,  8,  9, 10, 11])"
      ]
     },
     "execution_count": 28,
     "metadata": {},
     "output_type": "execute_result"
    }
   ],
   "source": [
    "# Add a number to A \n",
    "A + 5"
   ]
  },
  {
   "cell_type": "code",
   "execution_count": 30,
   "id": "417f2643",
   "metadata": {},
   "outputs": [
    {
     "data": {
      "text/plain": [
       "np.int64(21)"
      ]
     },
     "execution_count": 30,
     "metadata": {},
     "output_type": "execute_result"
    }
   ],
   "source": [
    "# Add the elements of array \n",
    "sum(A)"
   ]
  },
  {
   "cell_type": "markdown",
   "id": "5910ff43",
   "metadata": {},
   "source": [
    "### Exercise 2\n",
    "\n",
    "Create a new array with elements 11, 13, 15 and 17 and store it in Variable B. array A elements are 1, 2, 3, 4\n",
    "\n",
    "1. Add A and B\n",
    "2. Create a new variable a and equate that to number\n",
    "3. Add a and B\n",
    "4. Create 2 variables a and b and equate that to 9 and 5; then create array with the first element a+b and second element a*b\n",
    "5. Create a new array with elements 4, 5, and 7; and store it in variable C\n",
    "6. Display A\n",
    "7. Print A\n",
    "8. Add A and C \n",
    "\n"
   ]
  },
  {
   "cell_type": "code",
   "execution_count": 35,
   "id": "805a7ba1",
   "metadata": {},
   "outputs": [],
   "source": [
    "A = np.array([1, 2, 3, 4])\n",
    "B = np.array([11, 13, 15, 17])"
   ]
  },
  {
   "cell_type": "code",
   "execution_count": 38,
   "id": "7ecd97fc",
   "metadata": {},
   "outputs": [
    {
     "data": {
      "text/plain": [
       "array([12, 15, 18, 21])"
      ]
     },
     "execution_count": 38,
     "metadata": {},
     "output_type": "execute_result"
    }
   ],
   "source": [
    "# add A and B\n",
    "A + B"
   ]
  },
  {
   "cell_type": "code",
   "execution_count": 39,
   "id": "3586e78d",
   "metadata": {},
   "outputs": [],
   "source": [
    "# variable a\n",
    "a = 6"
   ]
  },
  {
   "cell_type": "code",
   "execution_count": 40,
   "id": "ff7456b7",
   "metadata": {},
   "outputs": [
    {
     "data": {
      "text/plain": [
       "array([17, 19, 21, 23])"
      ]
     },
     "execution_count": 40,
     "metadata": {},
     "output_type": "execute_result"
    }
   ],
   "source": [
    "# Add a and B\n",
    "a + B"
   ]
  },
  {
   "cell_type": "code",
   "execution_count": 43,
   "id": "6622fdcf",
   "metadata": {},
   "outputs": [
    {
     "data": {
      "text/plain": [
       "array([14, 45])"
      ]
     },
     "execution_count": 43,
     "metadata": {},
     "output_type": "execute_result"
    }
   ],
   "source": [
    "# array with the first element a+b and second element a*b(a=9 and b=5)\n",
    "a = 9\n",
    "b = 5\n",
    "\n",
    "np.array([a+b, a*b])"
   ]
  },
  {
   "cell_type": "code",
   "execution_count": 44,
   "id": "2b8bea66",
   "metadata": {},
   "outputs": [],
   "source": [
    "# array with elements 4, 5, and 7; store it in Variable C\n",
    "C = np.array([4, 5, 7])"
   ]
  },
  {
   "cell_type": "code",
   "execution_count": 45,
   "id": "ce8b37ca",
   "metadata": {},
   "outputs": [],
   "source": [
    "# Display A\n",
    "A = np.array([1, 2, 3, 4])"
   ]
  },
  {
   "cell_type": "code",
   "execution_count": 46,
   "id": "be87c21d",
   "metadata": {},
   "outputs": [
    {
     "data": {
      "text/plain": [
       "array([1, 2, 3, 4])"
      ]
     },
     "execution_count": 46,
     "metadata": {},
     "output_type": "execute_result"
    }
   ],
   "source": [
    "# Print A\n",
    "A"
   ]
  },
  {
   "cell_type": "code",
   "execution_count": 49,
   "id": "d868960a",
   "metadata": {},
   "outputs": [
    {
     "data": {
      "text/plain": [
       "array([ 5,  7, 10,  4])"
      ]
     },
     "execution_count": 49,
     "metadata": {},
     "output_type": "execute_result"
    }
   ],
   "source": [
    "# Add A and C\n",
    "C_padded = np.pad(C, (0, 1), mode = 'constant')\n",
    "result = C_padded + A\n",
    "result"
   ]
  },
  {
   "cell_type": "markdown",
   "id": "001e784f",
   "metadata": {},
   "source": [
    "## Basic Array\n",
    "\n",
    "np.arange() function uses the following basic syntax\n",
    "\n",
    "\n",
    "np.arange(start,stop,step)\n",
    "\n",
    "where:\n",
    "\n",
    "* start: the starting value of the sequence \n",
    "* stop: the end value of the sequence\n",
    "* step: the spacing between values\n"
   ]
  },
  {
   "cell_type": "code",
   "execution_count": 50,
   "id": "559fc81d",
   "metadata": {},
   "outputs": [
    {
     "data": {
      "text/plain": [
       "array([0, 1, 2, 3, 4, 5, 6])"
      ]
     },
     "execution_count": 50,
     "metadata": {},
     "output_type": "execute_result"
    }
   ],
   "source": [
    "# Write an np.arange command with one input. Let that be 7\n",
    "np.arange(7)"
   ]
  },
  {
   "cell_type": "code",
   "execution_count": 51,
   "id": "327f30e8",
   "metadata": {},
   "outputs": [
    {
     "data": {
      "text/plain": [
       "array([1, 2, 3, 4, 5, 6, 7])"
      ]
     },
     "execution_count": 51,
     "metadata": {},
     "output_type": "execute_result"
    }
   ],
   "source": [
    "# What if i want the array to start at 1 and end in the value of input\n",
    "np.arange(7) + 1"
   ]
  },
  {
   "cell_type": "code",
   "execution_count": null,
   "id": "2629095c",
   "metadata": {},
   "outputs": [
    {
     "data": {
      "text/plain": [
       "array([1, 2, 3, 4, 5, 6, 7])"
      ]
     },
     "execution_count": 52,
     "metadata": {},
     "output_type": "execute_result"
    }
   ],
   "source": [
    "# other way\n",
    "np.arange(1,8)"
   ]
  },
  {
   "cell_type": "code",
   "execution_count": 53,
   "id": "2eecdfb4",
   "metadata": {},
   "outputs": [
    {
     "data": {
      "text/plain": [
       "array([200, 201, 202, 203, 204, 205, 206, 207, 208, 209, 210, 211])"
      ]
     },
     "execution_count": 53,
     "metadata": {},
     "output_type": "execute_result"
    }
   ],
   "source": [
    "# create array that starts with 200 and ends 211\n",
    "np.arange(200,212)"
   ]
  },
  {
   "cell_type": "code",
   "execution_count": 54,
   "id": "75914861",
   "metadata": {},
   "outputs": [
    {
     "data": {
      "text/plain": [
       "array([1. , 1.5, 2. , 2.5, 3. , 3.5, 4. , 4.5, 5. , 5.5, 6. , 6.5, 7. ,\n",
       "       7.5])"
      ]
     },
     "execution_count": 54,
     "metadata": {},
     "output_type": "execute_result"
    }
   ],
   "source": [
    "# np.arange with two input separated by comma\n",
    "np.arange(1,8,0.5)"
   ]
  },
  {
   "cell_type": "markdown",
   "id": "bfa883d0",
   "metadata": {},
   "source": [
    "### np.linspace\n",
    "\n",
    "the np.linspace() function uses the following basic syntax\n",
    "np.linspace(start, stop, num, ...)\n",
    "\n",
    "where:\n",
    "\n",
    "* start: the starting value of the sequence\n",
    "* stop: the end value of the sequence\n",
    "* num: the number of values to generate"
   ]
  },
  {
   "cell_type": "code",
   "execution_count": 55,
   "id": "477f1aed",
   "metadata": {},
   "outputs": [
    {
     "data": {
      "text/plain": [
       "array([ 0.,  2.,  4.,  6.,  8., 10., 12., 14., 16., 18., 20.])"
      ]
     },
     "execution_count": 55,
     "metadata": {},
     "output_type": "execute_result"
    }
   ],
   "source": [
    "# create sequence of 11 evenly spaced values between 0 and 20\n",
    "np.linspace(0,20,11)"
   ]
  },
  {
   "cell_type": "code",
   "execution_count": 58,
   "id": "c59930d1",
   "metadata": {},
   "outputs": [
    {
     "name": "stdout",
     "output_type": "stream",
     "text": [
      "[ 0.  5. 10.]\n"
     ]
    }
   ],
   "source": [
    "a = np.linspace(0,10,3)\n",
    "print(a)"
   ]
  },
  {
   "cell_type": "code",
   "execution_count": 59,
   "id": "b59a3549",
   "metadata": {},
   "outputs": [
    {
     "name": "stdout",
     "output_type": "stream",
     "text": [
      "float64\n"
     ]
    }
   ],
   "source": [
    "print(a.dtype)"
   ]
  },
  {
   "cell_type": "code",
   "execution_count": null,
   "id": "41fe99eb",
   "metadata": {},
   "outputs": [
    {
     "name": "stdout",
     "output_type": "stream",
     "text": [
      "int64\n"
     ]
    }
   ],
   "source": [
    "# change the dtype to int\n",
    "a_int =np.linspace(0, 10, 3, dtype=int)\n",
    "print(a_int.dtype)\n"
   ]
  },
  {
   "cell_type": "code",
   "execution_count": 64,
   "id": "c8ff0157",
   "metadata": {},
   "outputs": [
    {
     "data": {
      "text/plain": [
       "array([ 0,  5, 10])"
      ]
     },
     "execution_count": 64,
     "metadata": {},
     "output_type": "execute_result"
    }
   ],
   "source": [
    "a_int"
   ]
  }
 ],
 "metadata": {
  "kernelspec": {
   "display_name": "Python 3",
   "language": "python",
   "name": "python3"
  },
  "language_info": {
   "codemirror_mode": {
    "name": "ipython",
    "version": 3
   },
   "file_extension": ".py",
   "mimetype": "text/x-python",
   "name": "python",
   "nbconvert_exporter": "python",
   "pygments_lexer": "ipython3",
   "version": "3.10.11"
  }
 },
 "nbformat": 4,
 "nbformat_minor": 5
}
